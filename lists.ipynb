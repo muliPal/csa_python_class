{
 "cells": [
  {
   "cell_type": "code",
   "execution_count": 1,
   "id": "c55d9c3e-21d5-445b-a5bb-a72b84cacf5f",
   "metadata": {},
   "outputs": [
    {
     "name": "stdout",
     "output_type": "stream",
     "text": [
      "2\n",
      "3\n",
      "4\n",
      "5\n",
      "6\n",
      "7\n",
      "2\n"
     ]
    }
   ],
   "source": [
    "results = [2,3,4,5,6,7,2]\n",
    "for num in results:\n",
    "    print(num)"
   ]
  },
  {
   "cell_type": "code",
   "execution_count": 14,
   "id": "9d66edc9-6b89-449f-bbeb-17bb44657d7f",
   "metadata": {},
   "outputs": [
    {
     "name": "stdin",
     "output_type": "stream",
     "text": [
      "enter a number 5\n",
      "enter a number 6\n",
      "enter a number 3\n",
      "enter a number 2\n",
      "enter a number 4\n"
     ]
    },
    {
     "name": "stdout",
     "output_type": "stream",
     "text": [
      "final total = total 20\n",
      "result = 20\n"
     ]
    }
   ],
   "source": [
    "total = 0\n",
    "for i in range(5):\n",
    "    num = int(input(\"enter a number\"))\n",
    "    total = total + num\n",
    "print(f\"final total = total {total}\")\n",
    "result = total\n",
    "print(f\"result = {result}\") \n"
   ]
  },
  {
   "cell_type": "code",
   "execution_count": 19,
   "id": "c51d98d4-4d8a-4ca5-a0f6-198ccbedf47e",
   "metadata": {},
   "outputs": [
    {
     "name": "stdin",
     "output_type": "stream",
     "text": [
      "Enter number:  7\n",
      "Enter number:  8\n",
      "Enter number:  6\n",
      "Enter number:  1\n",
      "Enter number:  7\n"
     ]
    },
    {
     "name": "stdout",
     "output_type": "stream",
     "text": [
      "Resut of the input: [7, 8, 6, 1, 7]\n",
      "Final total = 29\n",
      "Result = 29\n"
     ]
    }
   ],
   "source": [
    "total = 0\n",
    "numbers = []  # Create empty list to store inputs\n",
    "\n",
    "for i in range(5):\n",
    "    num = int(input(f\"Enter number: \"))\n",
    "    numbers.append(num)  # Add number to list\n",
    "    total = total + num\n",
    "\n",
    "print(f\"Resut of the input: {numbers}\")\n",
    "print(f\"Final total = {total}\")\n",
    "result = total\n",
    "print(f\"Result = {result}\")"
   ]
  },
  {
   "cell_type": "code",
   "execution_count": 20,
   "id": "760e8fb2-b618-4503-a943-dc92bd75220f",
   "metadata": {},
   "outputs": [
    {
     "name": "stdin",
     "output_type": "stream",
     "text": [
      "Enter number:  9\n",
      "Enter number:  8\n",
      "Enter number:  7\n",
      "Enter number:  66\n",
      "Enter number:  5\n"
     ]
    },
    {
     "name": "stdout",
     "output_type": "stream",
     "text": [
      "Resut of the input: [9, 8, 7, 66, 5]\n",
      "Final total = 95\n"
     ]
    },
    {
     "ename": "TypeError",
     "evalue": "'int' object is not subscriptable",
     "output_type": "error",
     "traceback": [
      "\u001b[1;31m---------------------------------------------------------------------------\u001b[0m",
      "\u001b[1;31mTypeError\u001b[0m                                 Traceback (most recent call last)",
      "Cell \u001b[1;32mIn[20], line 12\u001b[0m\n\u001b[0;32m     10\u001b[0m \u001b[38;5;28mprint\u001b[39m(\u001b[38;5;124mf\u001b[39m\u001b[38;5;124m\"\u001b[39m\u001b[38;5;124mFinal total = \u001b[39m\u001b[38;5;132;01m{\u001b[39;00mtotal\u001b[38;5;132;01m}\u001b[39;00m\u001b[38;5;124m\"\u001b[39m)\n\u001b[0;32m     11\u001b[0m result \u001b[38;5;241m=\u001b[39m total\n\u001b[1;32m---> 12\u001b[0m \u001b[38;5;28mprint\u001b[39m(\u001b[38;5;124mf\u001b[39m\u001b[38;5;124m\"\u001b[39m\u001b[38;5;124mResult = \u001b[39m\u001b[38;5;132;01m{\u001b[39;00mresult[\u001b[38;5;241m3\u001b[39m]\u001b[38;5;132;01m}\u001b[39;00m\u001b[38;5;124m\"\u001b[39m)\n",
      "\u001b[1;31mTypeError\u001b[0m: 'int' object is not subscriptable"
     ]
    }
   ],
   "source": [
    "total = 0\n",
    "numbers = []  # Create empty list to store inputs\n",
    "\n",
    "for i in range(5):\n",
    "    num = int(input(f\"Enter number: \"))\n",
    "    numbers.append(num)  # Add number to list\n",
    "    total = total + num\n",
    "\n",
    "print(f\"Resut of the input: {numbers}\")\n",
    "print(f\"Final total = {total}\")\n",
    "result = total\n",
    "print(f\"Result = {result:[3]}\")"
   ]
  },
  {
   "cell_type": "code",
   "execution_count": 25,
   "id": "fc6375d4-1a1e-43c7-8f17-1216df8b29b1",
   "metadata": {},
   "outputs": [
    {
     "data": {
      "text/plain": [
       "21.125"
      ]
     },
     "execution_count": 25,
     "metadata": {},
     "output_type": "execute_result"
    }
   ],
   "source": [
    "# Find the average of the following marks\n",
    "marks = [17,23,8,42,33,12,25,9]\n",
    "total=0\n",
    "count=0\n",
    "for i in marks:\n",
    "    count+=1\n",
    "    total+=i\n",
    "\n",
    "average=total/count\n",
    "average"
   ]
  },
  {
   "cell_type": "code",
   "execution_count": 47,
   "id": "1b642c6d-4499-4225-89fd-002152dfac0f",
   "metadata": {},
   "outputs": [
    {
     "name": "stdout",
     "output_type": "stream",
     "text": [
      "[]\n"
     ]
    },
    {
     "name": "stdin",
     "output_type": "stream",
     "text": [
      "what is your name? jun\n"
     ]
    },
    {
     "name": "stdout",
     "output_type": "stream",
     "text": [
      "['jun']\n"
     ]
    },
    {
     "name": "stdin",
     "output_type": "stream",
     "text": [
      "what is your name? july\n"
     ]
    },
    {
     "name": "stdout",
     "output_type": "stream",
     "text": [
      "['jun', 'july']\n"
     ]
    },
    {
     "name": "stdin",
     "output_type": "stream",
     "text": [
      "what is your name? jan\n"
     ]
    },
    {
     "name": "stdout",
     "output_type": "stream",
     "text": [
      "['jun', 'july', 'jan']\n"
     ]
    }
   ],
   "source": [
    "students=[]\n",
    "for i in range(3):\n",
    "    print(students)\n",
    "    name=input(\"what is your name?\")\n",
    "    students=students+[name]\n",
    "print(students)\n"
   ]
  },
  {
   "cell_type": "code",
   "execution_count": 53,
   "id": "a9ce8a7a-afa9-4d74-b734-8d9d3cbf03c3",
   "metadata": {},
   "outputs": [
    {
     "name": "stdout",
     "output_type": "stream",
     "text": [
      "jan\n"
     ]
    }
   ],
   "source": [
    "print (students[-1])"
   ]
  },
  {
   "cell_type": "code",
   "execution_count": 54,
   "id": "94e59947-6f82-41ad-9f62-c36a219d716e",
   "metadata": {},
   "outputs": [
    {
     "name": "stdout",
     "output_type": "stream",
     "text": [
      "['jun', 'july', 'jan']\n"
     ]
    }
   ],
   "source": [
    "msrks = [50,62,58]\n",
    "print(students)\n"
   ]
  },
  {
   "cell_type": "code",
   "execution_count": 41,
   "id": "0d1093ee-14c5-4887-b771-59297e218753",
   "metadata": {},
   "outputs": [
    {
     "name": "stdout",
     "output_type": "stream",
     "text": [
      "stephen: 20\n",
      "edu: 34\n",
      "sam: 56\n",
      "ken: 90\n",
      "brayo: 9\n",
      "eddy: 87\n",
      "josua: 84\n"
     ]
    }
   ],
   "source": [
    "students = [\"stephen\", \"edu\", \"sam\", \"ken\", \"brayo\", \"eddy\", \"josua\"]\n",
    "marks = [20, 34, 56, 90, 9, 87, 84]\n",
    "\n",
    "for i in range(7):\n",
    "    print(f\"{students[i]}: {marks[i]}\")"
   ]
  },
  {
   "cell_type": "code",
   "execution_count": null,
   "id": "24ca3011-a643-41d1-a161-1536154c5282",
   "metadata": {},
   "outputs": [],
   "source": []
  }
 ],
 "metadata": {
  "kernelspec": {
   "display_name": "Python [conda env:base] *",
   "language": "python",
   "name": "conda-base-py"
  },
  "language_info": {
   "codemirror_mode": {
    "name": "ipython",
    "version": 3
   },
   "file_extension": ".py",
   "mimetype": "text/x-python",
   "name": "python",
   "nbconvert_exporter": "python",
   "pygments_lexer": "ipython3",
   "version": "3.13.5"
  }
 },
 "nbformat": 4,
 "nbformat_minor": 5
}
