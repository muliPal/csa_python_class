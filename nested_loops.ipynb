{
 "cells": [
  {
   "cell_type": "code",
   "execution_count": 79,
   "id": "dc04c711-bdb9-4c07-8355-19c57259f698",
   "metadata": {},
   "outputs": [],
   "source": [
    "#here i start by drawing a simple square\n",
    "import turtle as t\n",
    "t.reset()\n",
    "t.color(\"green\")\n",
    "t.begin_fill()\n",
    "for i in range(4):\n",
    "    t.forward(100)\n",
    "    t.left(90)\n",
    "t.end_fill()\n",
    "# then i draw a second square next to the first one\n",
    "t.penup()\n",
    "t.forward(200)\n",
    "t.pendown()\n",
    "for i in range(4):\n",
    "    t.forward(100)\n",
    "    t.left(90)\n",
    "# here i draw another circle below the second one    \n",
    "t.penup()\n",
    "t.right(90)\n",
    "t.forward(50)\n",
    "t.pendown()\n",
    "for i in range(4):\n",
    "    t.forward(100)\n",
    "    t.left(90)\n",
    "# here i draw another circle below the first one    \n",
    "t.penup()\n",
    "t.right(90)\n",
    "t.forward(100)\n",
    "t.pendown()\n",
    "for i in range(4):\n",
    "    t.forward(100)\n",
    "    t.left(90)\n",
    "    \n",
    "t.penup()\n",
    "t.right(90)\n",
    "t.forward(100)\n",
    "t.pendown()\n",
    "for i in range(4):\n",
    "    t.forward(100)\n",
    "    t.left(90)"
   ]
  },
  {
   "cell_type": "code",
   "execution_count": 80,
   "id": "a9d01c8d-4e44-44e6-914b-97072eb88a99",
   "metadata": {},
   "outputs": [
    {
     "name": "stdout",
     "output_type": "stream",
     "text": [
      " * \n",
      " * \n",
      " *  * \n",
      " * \n",
      " *  * \n",
      " *  *  * \n"
     ]
    }
   ],
   "source": [
    "for i in range(1,4):\n",
    "    output=\"\"\n",
    "    for j in range(i):\n",
    "        output = output + \" * \"\n",
    "        print(output)"
   ]
  },
  {
   "cell_type": "code",
   "execution_count": 81,
   "id": "71f0dab0-4696-40dc-bd8d-8eba9e7e448d",
   "metadata": {},
   "outputs": [
    {
     "name": "stdout",
     "output_type": "stream",
     "text": [
      " * \n",
      " *  * \n",
      " * \n",
      " *  * \n",
      " * \n",
      " *  * \n"
     ]
    }
   ],
   "source": [
    "for i in range(1,4):\n",
    "    output=\"\"\n",
    "    for j in range(2):\n",
    "        output = output + \" * \"\n",
    "        print(output)"
   ]
  },
  {
   "cell_type": "code",
   "execution_count": 82,
   "id": "96c6268a-0b93-4f80-8a8a-f43f5c4114c3",
   "metadata": {},
   "outputs": [
    {
     "name": "stdout",
     "output_type": "stream",
     "text": [
      "1 1  1 \n",
      "1 1  1 \n",
      "1 1  1 \n"
     ]
    }
   ],
   "source": [
    "for i in range(3):\n",
    "    output=\"1\"\n",
    "    for j in range(2):\n",
    "        output = output + \" 1 \"\n",
    "    print(output)"
   ]
  },
  {
   "cell_type": "code",
   "execution_count": 14,
   "id": "b2f55bfe-3dd8-42a9-bd64-935047eb46d3",
   "metadata": {},
   "outputs": [
    {
     "name": "stdout",
     "output_type": "stream",
     "text": [
      " *  * \n"
     ]
    }
   ],
   "source": []
  },
  {
   "cell_type": "code",
   "execution_count": 18,
   "id": "fd313c88-9567-41c5-bc37-0e49f3bfaa78",
   "metadata": {},
   "outputs": [
    {
     "name": "stdout",
     "output_type": "stream",
     "text": [
      " * \n",
      " * \n",
      " *  * \n"
     ]
    }
   ],
   "source": [
    "for i in range(3):\n",
    "    output=\"\"\n",
    "    for j in range(i):\n",
    "        output = output + \" * \"\n",
    "        print(output)"
   ]
  },
  {
   "cell_type": "code",
   "execution_count": 22,
   "id": "ab1495d4-ada9-420b-8686-7f82c475702b",
   "metadata": {},
   "outputs": [
    {
     "name": "stdout",
     "output_type": "stream",
     "text": [
      "i = 0, j = 0\n",
      "i = 0, j = 1\n",
      "i = 0, j = 2\n",
      "i = 1, j = 0\n",
      "i = 1, j = 1\n",
      "i = 1, j = 2\n"
     ]
    }
   ],
   "source": [
    "for i in range(2):\n",
    "    for j in range(3):\n",
    "        print(f\"i = {i}, j = {j}\")"
   ]
  },
  {
   "cell_type": "code",
   "execution_count": 27,
   "id": "73dc0ce1-0409-4b2a-88b8-6fd6ca51e308",
   "metadata": {},
   "outputs": [
    {
     "name": "stdout",
     "output_type": "stream",
     "text": [
      " *  *  *  *  *  *  *  * \n",
      " *  *  *  *  *  *  *  * \n"
     ]
    }
   ],
   "source": [
    "for i in range(2):\n",
    "    output=\"\"\n",
    "    for j in range(8):\n",
    "        output = output + \" * \"\n",
    "    print(output)"
   ]
  },
  {
   "cell_type": "code",
   "execution_count": 72,
   "id": "4f1fdb47-dfef-4995-97c6-aca78ba60d8b",
   "metadata": {},
   "outputs": [
    {
     "name": "stdout",
     "output_type": "stream",
     "text": [
      " * \n",
      " *  * \n",
      " *  *  * \n",
      " * \n",
      " *  * \n",
      " *  *  * \n",
      " * \n",
      " *  * \n",
      " *  *  * \n",
      " * \n",
      " *  * \n",
      " *  *  * \n",
      " * \n",
      " *  * \n",
      " *  *  * \n",
      " * \n",
      " *  * \n",
      " *  *  * \n",
      " * \n",
      " *  * \n",
      " *  *  * \n",
      " * \n",
      " *  * \n",
      " *  *  * \n",
      " * \n",
      " *  * \n",
      " *  *  * \n",
      " * \n",
      " *  * \n",
      " *  *  * \n",
      " * \n",
      " *  * \n",
      " *  *  * \n",
      " * \n",
      " *  * \n",
      " *  *  * \n",
      " * \n",
      " *  * \n",
      " *  *  * \n",
      " * \n",
      " *  * \n",
      " *  *  * \n",
      " * \n",
      " *  * \n",
      " *  *  * \n",
      " * \n",
      " *  * \n",
      " *  *  * \n",
      " * \n",
      " *  * \n",
      " *  *  * \n",
      " * \n",
      " *  * \n",
      " *  *  * \n",
      " * \n",
      " *  * \n",
      " *  *  * \n",
      " * \n",
      " *  * \n",
      " *  *  * \n",
      " * \n",
      " *  * \n",
      " *  *  * \n",
      " * \n",
      " *  * \n",
      " *  *  * \n",
      " * \n",
      " *  * \n",
      " *  *  * \n",
      " * \n",
      " *  * \n",
      " *  *  * \n",
      " * \n",
      " *  * \n",
      " *  *  * \n",
      " * \n",
      " *  * \n",
      " *  *  * \n",
      " * \n",
      " *  * \n",
      " *  *  * \n",
      " * \n",
      " *  * \n",
      " *  *  * \n",
      " * \n",
      " *  * \n",
      " *  *  * \n",
      " * \n",
      " *  * \n",
      " *  *  * \n",
      " * \n",
      " *  * \n",
      " *  *  * \n",
      " * \n",
      " *  * \n",
      " *  *  * \n",
      " * \n",
      " *  * \n",
      " *  *  * \n",
      " * \n",
      " *  * \n",
      " *  *  * \n",
      " * \n",
      " *  * \n",
      " *  *  * \n",
      " * \n",
      " *  * \n",
      " *  *  * \n",
      " * \n",
      " *  * \n",
      " *  *  * \n",
      " * \n",
      " *  * \n",
      " *  *  * \n",
      " * \n",
      " *  * \n",
      " *  *  * \n",
      " * \n",
      " *  * \n",
      " *  *  * \n",
      " * \n",
      " *  * \n",
      " *  *  * \n",
      " * \n",
      " *  * \n",
      " *  *  * \n",
      " * \n",
      " *  * \n",
      " *  *  * \n",
      " * \n",
      " *  * \n",
      " *  *  * \n",
      " * \n",
      " *  * \n",
      " *  *  * \n",
      " * \n",
      " *  * \n",
      " *  *  * \n",
      " * \n",
      " *  * \n",
      " *  *  * \n",
      " * \n",
      " *  * \n",
      " *  *  * \n",
      " * \n",
      " *  * \n",
      " *  *  * \n",
      " * \n",
      " *  * \n",
      " *  *  * \n"
     ]
    }
   ],
   "source": [
    "for a in range(50):\n",
    "    for i in range(1,4):\n",
    "            output=\"\"\n",
    "            for j in range(i):\n",
    "                output = output + \" * \"\n",
    "            print(output)"
   ]
  },
  {
   "cell_type": "code",
   "execution_count": 76,
   "id": "4e7b48ba-5e92-41c6-8dd4-50d5c7dbaf39",
   "metadata": {},
   "outputs": [
    {
     "name": "stdout",
     "output_type": "stream",
     "text": [
      "i = 1, j = 0\n",
      "i = 1, j = 1\n",
      "i = 1, j = 2\n",
      "i = 2, j = 0\n",
      "i = 2, j = 1\n",
      "i = 2, j = 2\n",
      "i = 1, j = 0\n",
      "i = 1, j = 1\n",
      "i = 1, j = 2\n",
      "i = 2, j = 0\n",
      "i = 2, j = 1\n",
      "i = 2, j = 2\n"
     ]
    }
   ],
   "source": [
    "for i in range(2):\n",
    "    for i in range(2):\n",
    "        for j in range(3):\n",
    "            print(f\"i = {i+1}, j = {j}\")"
   ]
  },
  {
   "cell_type": "code",
   "execution_count": 78,
   "id": "d5dc7ba1-2df7-4baf-8c94-b1941b1dc064",
   "metadata": {},
   "outputs": [
    {
     "name": "stdout",
     "output_type": "stream",
     "text": [
      " *  *  *  *  * \n",
      " *  *  *  * \n",
      " *  *  * \n",
      " *  * \n",
      " * \n"
     ]
    }
   ],
   "source": [
    "# what would happen if i did not define output?\n",
    "for i in range(5,0,-1):\n",
    "    output=\"\"\n",
    "    for j in range(i):\n",
    "        output = output + \" * \"\n",
    "    print(output)"
   ]
  },
  {
   "cell_type": "code",
   "execution_count": null,
   "id": "dcb6f514-1560-443b-a821-d346632b4aa8",
   "metadata": {},
   "outputs": [],
   "source": []
  }
 ],
 "metadata": {
  "kernelspec": {
   "display_name": "Python [conda env:base] *",
   "language": "python",
   "name": "conda-base-py"
  },
  "language_info": {
   "codemirror_mode": {
    "name": "ipython",
    "version": 3
   },
   "file_extension": ".py",
   "mimetype": "text/x-python",
   "name": "python",
   "nbconvert_exporter": "python",
   "pygments_lexer": "ipython3",
   "version": "3.13.5"
  }
 },
 "nbformat": 4,
 "nbformat_minor": 5
}
