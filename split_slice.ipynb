{
 "cells": [
  {
   "cell_type": "code",
   "execution_count": 22,
   "id": "20d59f4c-27b7-477c-aff4-a8dce4a9bfef",
   "metadata": {},
   "outputs": [
    {
     "name": "stdout",
     "output_type": "stream",
     "text": [
      "['This', 'is', 'a', 'test']\n"
     ]
    }
   ],
   "source": [
    "\n",
    "sentence = \"This,is,a,test\"\n",
    "# output=[\"This\",\"is\",\"a\",\"test\"]\n",
    "wordlist=[]\n",
    "word=\"\"\n",
    "for char in sentence:\n",
    "    if char==\",\":\n",
    "        wordlist.append(word)\n",
    "        word=\"\"\n",
    "    else:\n",
    "        word+=(char)\n",
    "wordlist.append(word)\n",
    "print(wordlist)\n",
    "    "
   ]
  },
  {
   "cell_type": "code",
   "execution_count": 34,
   "id": "ba9b1454-9376-41c0-a267-5c10c806cbcc",
   "metadata": {},
   "outputs": [
    {
     "name": "stdout",
     "output_type": "stream",
     "text": [
      "  : is at position[0]\n",
      "  : is at position[1]\n",
      "  : is at position[2]\n",
      "  : is at position[3]\n",
      "  : is at position[4]\n",
      "h : is at position[5]\n",
      "e : is at position[6]\n",
      "l : is at position[7]\n",
      "l : is at position[8]\n",
      "o : is at position[9]\n",
      "  : is at position[10]\n",
      "e : is at position[11]\n",
      "v : is at position[12]\n",
      "e : is at position[13]\n",
      "r : is at position[14]\n",
      "y : is at position[15]\n",
      "o : is at position[16]\n",
      "n : is at position[17]\n",
      "e : is at position[18]\n",
      "  : is at position[19]\n",
      "i : is at position[20]\n",
      "n : is at position[21]\n",
      "  : is at position[22]\n",
      "c : is at position[23]\n",
      "o : is at position[24]\n",
      "m : is at position[25]\n",
      "p : is at position[26]\n",
      "u : is at position[27]\n",
      "t : is at position[28]\n",
      "i : is at position[29]\n",
      "n : is at position[30]\n",
      "g : is at position[31]\n",
      "  : is at position[32]\n",
      "  : is at position[33]\n",
      "  : is at position[34]\n",
      "  : is at position[35]\n",
      "  : is at position[36]\n"
     ]
    }
   ],
   "source": [
    "sentence=\"     hello everyone in computing     \"\n",
    "# sentence=\"hello everyone in computing\"\n",
    "# for char in sentence:\n",
    "#     print(char)\n",
    "\n",
    "for i in range(len(sentence)):\n",
    "    print(f\"{sentence[i]} : is at position{[i]}\")"
   ]
  },
  {
   "cell_type": "code",
   "execution_count": 49,
   "id": "bbbd0e4a-6356-4432-b98a-d51745eea832",
   "metadata": {},
   "outputs": [
    {
     "name": "stdout",
     "output_type": "stream",
     "text": [
      "  : is at position[0]\n",
      "  : is at position[1]\n",
      "  : is at position[2]\n",
      "  : is at position[3]\n",
      "  : is at position[4]\n",
      "h : is at position[5]\n",
      "e : is at position[6]\n",
      "l : is at position[7]\n",
      "l : is at position[8]\n",
      "o : is at position[9]\n",
      "  : is at position[10]\n",
      "e : is at position[11]\n",
      "v : is at position[12]\n",
      "e : is at position[13]\n",
      "r : is at position[14]\n",
      "y : is at position[15]\n",
      "o : is at position[16]\n",
      "n : is at position[17]\n",
      "e : is at position[18]\n",
      "  : is at position[19]\n",
      "i : is at position[20]\n",
      "n : is at position[21]\n",
      "  : is at position[22]\n",
      "c : is at position[23]\n",
      "o : is at position[24]\n",
      "m : is at position[25]\n",
      "p : is at position[26]\n",
      "u : is at position[27]\n",
      "t : is at position[28]\n",
      "i : is at position[29]\n",
      "n : is at position[30]\n",
      "g : is at position[31]\n",
      "  : is at position[32]\n",
      "  : is at position[33]\n",
      "  : is at position[34]\n",
      "  : is at position[35]\n",
      "  : is at position[36]\n"
     ]
    }
   ],
   "source": [
    "start = 0\n",
    "while start < len(sentence):\n",
    "    print(f\"{sentence[start]} : is at position{[start]}\")\n",
    "    start+=1"
   ]
  },
  {
   "cell_type": "code",
   "execution_count": 50,
   "id": "57123c88-90c9-4efc-82a2-b4e22f9e599a",
   "metadata": {},
   "outputs": [
    {
     "name": "stdout",
     "output_type": "stream",
     "text": [
      "  : is at position[36]\n",
      "  : is at position[35]\n",
      "  : is at position[34]\n",
      "  : is at position[33]\n",
      "  : is at position[32]\n",
      "g : is at position[31]\n",
      "n : is at position[30]\n",
      "i : is at position[29]\n",
      "t : is at position[28]\n",
      "u : is at position[27]\n",
      "p : is at position[26]\n",
      "m : is at position[25]\n",
      "o : is at position[24]\n",
      "c : is at position[23]\n",
      "  : is at position[22]\n",
      "n : is at position[21]\n",
      "i : is at position[20]\n",
      "  : is at position[19]\n",
      "e : is at position[18]\n",
      "n : is at position[17]\n",
      "o : is at position[16]\n",
      "y : is at position[15]\n",
      "r : is at position[14]\n",
      "e : is at position[13]\n",
      "v : is at position[12]\n",
      "e : is at position[11]\n",
      "  : is at position[10]\n",
      "o : is at position[9]\n",
      "l : is at position[8]\n",
      "l : is at position[7]\n",
      "e : is at position[6]\n",
      "h : is at position[5]\n",
      "  : is at position[4]\n",
      "  : is at position[3]\n",
      "  : is at position[2]\n",
      "  : is at position[1]\n",
      "  : is at position[0]\n"
     ]
    }
   ],
   "source": [
    "end=len(sentence)-1\n",
    "while end>=0:\n",
    "     print(f\"{sentence[end]} : is at position{[end]}\")\n",
    "     end-= 1"
   ]
  },
  {
   "cell_type": "code",
   "execution_count": 64,
   "id": "b8bb81d6-90ef-4af4-8f9c-711de51333bd",
   "metadata": {},
   "outputs": [
    {
     "name": "stdout",
     "output_type": "stream",
     "text": [
      "[]\n"
     ]
    }
   ],
   "source": [
    "# print the string without spaces\n",
    "sliced=[]\n",
    "word=\"\"\n",
    "start=0\n",
    "end=len(sentence)-1\n",
    "while start==\" \" and end==\" \":\n",
    "    sliced=sentence[i:end,1]\n",
    "for i in range (len(sliced)):\n",
    "     print(sliced)\n",
    "    \n",
    "# print(f\"{sentence[start]}:{start\n",
    "print(sliced)\n"
   ]
  },
  {
   "cell_type": "code",
   "execution_count": 3,
   "id": "d6bd980a-e629-407c-b061-1d2330ca151d",
   "metadata": {},
   "outputs": [
    {
     "name": "stdout",
     "output_type": "stream",
     "text": [
      "hello everyone in computing\n"
     ]
    }
   ],
   "source": [
    "sentence = \"     hello everyone in computing     \"\n",
    "start = 0\n",
    "end = len(sentence) -1\n",
    "\n",
    "# Find first non-space character\n",
    "while start <= end and sentence[start] == \" \":\n",
    "    start += 1\n",
    "\n",
    "# Find last non-space character\n",
    "while end >= start and sentence[end] == \" \":\n",
    "    end -= 1\n",
    "\n",
    "# Slice and print\n",
    "sliced = sentence[start:end+1]\n",
    "print(sliced)\n"
   ]
  },
  {
   "cell_type": "code",
   "execution_count": 4,
   "id": "84e93744-a157-4236-8d20-2353e5f73825",
   "metadata": {},
   "outputs": [
    {
     "name": "stdout",
     "output_type": "stream",
     "text": [
      "Sofiat\n",
      "Stephen\n",
      "Fionnuala\n",
      "Kenniche\n",
      "Grace\n",
      "Orla\n",
      "Ariane\n"
     ]
    }
   ],
   "source": [
    "with open(\"text-files/tutor_names.txt\") as f:\n",
    "    for line in f:\n",
    "        print(line.strip())"
   ]
  },
  {
   "cell_type": "code",
   "execution_count": 67,
   "id": "be14ff1a-d27e-4813-8a02-12d2ecd58061",
   "metadata": {},
   "outputs": [
    {
     "name": "stdout",
     "output_type": "stream",
     "text": [
      "Kenya\n",
      "Scotland\n",
      "Nigeria\n",
      "Uganda\n",
      "Ireland\n",
      "Tanzania\n",
      "Rwanda\n",
      "Congo\n",
      "England\n",
      "America\n",
      "Canada\n",
      "Sudan\n",
      "Egypt\n"
     ]
    }
   ],
   "source": [
    "with open(\"text-files/countries.txt\")as c:\n",
    "    for line in c:\n",
    "        print(line.strip())"
   ]
  },
  {
   "cell_type": "code",
   "execution_count": 68,
   "id": "df7e4024-3e25-4be6-b6c6-24b4f01d0aa7",
   "metadata": {},
   "outputs": [
    {
     "name": "stdout",
     "output_type": "stream",
     "text": [
      "Kenya:Naoirbi,Mombasa,Nakuru,Ngong,Ruiru,Mavoko\n",
      "Nigeria:Lagos,Ibadan,Abuja,Benin City,Akure\n",
      "Scotland:Glasgow,Edinburgh,St Andrews,Dundee,Aberdeen\n"
     ]
    }
   ],
   "source": [
    "with open(\"text-files/country_city.txt\")as c:\n",
    "    for line in c:\n",
    "        print(line.strip())"
   ]
  },
  {
   "cell_type": "code",
   "execution_count": 69,
   "id": "3e6d9e41-48db-4960-8323-5e66d3661a56",
   "metadata": {},
   "outputs": [
    {
     "name": "stdout",
     "output_type": "stream",
     "text": [
      "26.2, 24.3, 21.1, 20.9, 25.4, 23.0\n",
      "33.4, 36.4, 24.2\n",
      "15.2, 18.7, 16.5, 14.2, 16.5\n",
      "18.5, 16.3, 16.7, 17.1, 17.0, 15.5, 17.4\n",
      "20.2, 20.4, 20.1, 14.6, 17.9\n",
      "41.5, 41.3, 41.9, 42.3, 43.1, 43.0\n",
      "27.6, 29.1, 28.2, 26.5\n",
      "28.2, 28.6, 28.4, 29.3, 27.6\n"
     ]
    }
   ],
   "source": [
    "with open(\"text-files/Temperatures.txt\")as c:\n",
    "    for line in c:\n",
    "        print(line.strip())"
   ]
  },
  {
   "cell_type": "code",
   "execution_count": 70,
   "id": "86292ee4-2e62-46b5-a099-9e7c2919a831",
   "metadata": {},
   "outputs": [
    {
     "name": "stdout",
     "output_type": "stream",
     "text": [
      "Naoirbi Mombasa Nakuru Ngong Ruiru,Mavoko\n",
      "Lagos Ibadan Abuja Benin_City Akure\n",
      "Glasgow Edinburgh St_Andrews Dundee Aberdeen\n"
     ]
    }
   ],
   "source": [
    "with open(\"text-files/city_lines.txt\")as c:\n",
    "    for line in c:\n",
    "        print(line.strip())"
   ]
  },
  {
   "cell_type": "code",
   "execution_count": 71,
   "id": "68f7bbc2-98e9-4555-9d73-9f66bba83a9b",
   "metadata": {},
   "outputs": [
    {
     "name": "stdout",
     "output_type": "stream",
     "text": [
      "Sofiat,25\n",
      "Stephen,30\n",
      "Fionnuala,100\n",
      "Kenniche,49\n",
      "Grace,18\n",
      "Orla,21\n",
      "Ariane,28\n"
     ]
    }
   ],
   "source": [
    "with open(\"text-files/Tutor_ages.txt\")as c:\n",
    "    for line in c:\n",
    "        print(line.strip())"
   ]
  },
  {
   "cell_type": "code",
   "execution_count": 75,
   "id": "e11250d9-0dc6-49f0-a7b7-b3743fc99e9f",
   "metadata": {},
   "outputs": [
    {
     "name": "stdout",
     "output_type": "stream",
     "text": [
      "Kenya\n",
      "Scotland\n",
      "Nigeria\n",
      "Uganda\n",
      "Ireland\n",
      "Tanzania\n",
      "Rwanda\n",
      "Congo\n",
      "England\n",
      "America\n",
      "Canada\n",
      "Sudan\n",
      "Egypt\n",
      "Gabon\n",
      "Algeria\n",
      "Togo\n",
      "Swazi land\n"
     ]
    }
   ],
   "source": [
    "# Print out countries and add other countries to the list\n",
    "addition=[\"Gabon\",\"Algeria\",\"Togo\",\"Swazi land\"]\n",
    "with open(\"text-files/countries.txt\")as c:\n",
    "    for line in c:\n",
    "        print(line.strip())\n",
    "    for line in addition:\n",
    "        print(line.strip())"
   ]
  },
  {
   "cell_type": "code",
   "execution_count": 73,
   "id": "e2a9e0d7-a6a7-492b-9e15-68b638aab275",
   "metadata": {},
   "outputs": [
    {
     "name": "stdout",
     "output_type": "stream",
     "text": [
      "Countries from file:\n",
      "Kenya\n",
      "Scotland\n",
      "Nigeria\n",
      "Uganda\n",
      "Ireland\n",
      "Tanzania\n",
      "Rwanda\n",
      "Congo\n",
      "England\n",
      "America\n",
      "Canada\n",
      "Sudan\n",
      "Egypt\n",
      "\n",
      "Additional countries:\n",
      "Gabon\n",
      "Algeria\n",
      "Togo\n",
      "Swazi land\n"
     ]
    }
   ],
   "source": [
    "# Extra countries to add\n",
    "addition = [\"Gabon\", \"Algeria\", \"Togo\", \"Swazi land\"]\n",
    "\n",
    "# Open and read the file\n",
    "with open(\"text-files/countries.txt\") as c:\n",
    "    print(\"Countries from file:\")\n",
    "    for line in c:\n",
    "        print(line.strip())\n",
    "\n",
    "# Print the additional countries\n",
    "print(\"\\nAdditional countries:\")\n",
    "for country in addition:\n",
    "    print(country)\n"
   ]
  },
  {
   "cell_type": "code",
   "execution_count": 14,
   "id": "0875e558-ab48-479f-a7d0-d9d958cb26de",
   "metadata": {},
   "outputs": [
    {
     "name": "stdout",
     "output_type": "stream",
     "text": [
      "['Kenya:Naoirbi,Mombasa,Nakuru,Ngong,Ruiru,Mavoko']\n",
      "['Nigeria:Lagos,Ibadan,Abuja,Benin', 'City,Akure']\n",
      "['Scotland:Glasgow,Edinburgh,St', 'Andrews,Dundee,Aberdeen']\n",
      "[['Kenya:Naoirbi,Mombasa,Nakuru,Ngong,Ruiru,Mavoko'], ['Nigeria:Lagos,Ibadan,Abuja,Benin', 'City,Akure'], ['Scotland:Glasgow,Edinburgh,St', 'Andrews,Dundee,Aberdeen']]\n"
     ]
    }
   ],
   "source": [
    "#country_list=[]\n",
    "countries = []\n",
    "with open(\"text-files/country_city.txt\") as c:\n",
    "    for line in c:\n",
    "        data = line.strip()\n",
    "        country_list = data.split()\n",
    "        print(country_list)\n",
    "        countries.append(country_list)\n",
    "print(countries)"
   ]
  },
  {
   "cell_type": "code",
   "execution_count": 83,
   "id": "4ffe0eb8-f132-422f-9794-30ab2c684317",
   "metadata": {},
   "outputs": [
    {
     "name": "stdout",
     "output_type": "stream",
     "text": [
      "[['Scotland:Glasgow,Edinburgh,St', 'Andrews,Dundee,Aberdeen']]\n"
     ]
    }
   ],
   "source": [
    "# Explanation of why we dont define variables that we are going to output inside a loop\n",
    "with open(\"text-files/country_city.txt\") as c:\n",
    "    for line in c:\n",
    "        countries = []\n",
    "        data = line.strip()\n",
    "        country_list = data.split()\n",
    "        #print(country_list)\n",
    "        countries.append(country_list)\n",
    "print(countries)\n"
   ]
  },
  {
   "cell_type": "code",
   "execution_count": 4,
   "id": "a3d2a98c-128a-45df-81c9-300fab7fc77d",
   "metadata": {},
   "outputs": [
    {
     "name": "stdout",
     "output_type": "stream",
     "text": [
      "[['Sofiat', 25], ['Stephen', 30], ['Fionnuala', 100], ['Kenniche', 49], ['Grace', 18], ['Orla', 21], ['Ariane', 28]]\n"
     ]
    }
   ],
   "source": [
    "# store tutor ages in a list thats seperated by \",\"\n",
    "tutor_ages=[]\n",
    "with open(\"text-files/tutor_ages.txt\") as c:\n",
    "    for line in c:\n",
    "        data = line.strip()\n",
    "        tutors = data.split(\",\")\n",
    "        tutors[1]=int(tutors[1])\n",
    "        # print(tutors)\n",
    "        tutor_ages.append(tutors)\n",
    "print(tutor_ages)\n",
    "      "
   ]
  },
  {
   "cell_type": "code",
   "execution_count": null,
   "id": "43ab7b27-4849-4f89-8da5-e070a17cd6ea",
   "metadata": {},
   "outputs": [],
   "source": [
    "# print list of countries in country"
   ]
  }
 ],
 "metadata": {
  "kernelspec": {
   "display_name": "Python [conda env:base] *",
   "language": "python",
   "name": "conda-base-py"
  },
  "language_info": {
   "codemirror_mode": {
    "name": "ipython",
    "version": 3
   },
   "file_extension": ".py",
   "mimetype": "text/x-python",
   "name": "python",
   "nbconvert_exporter": "python",
   "pygments_lexer": "ipython3",
   "version": "3.13.5"
  }
 },
 "nbformat": 4,
 "nbformat_minor": 5
}
