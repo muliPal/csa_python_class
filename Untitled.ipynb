{
 "cells": [
  {
   "cell_type": "code",
   "execution_count": 4,
   "id": "c239b9cf-0cae-4b7f-966d-c4153cacbeab",
   "metadata": {},
   "outputs": [
    {
     "name": "stdout",
     "output_type": "stream",
     "text": [
      "Go to the shop\n"
     ]
    }
   ],
   "source": [
    "print(\"Go to the shop\")"
   ]
  },
  {
   "cell_type": "code",
   "execution_count": 5,
   "id": "1d7e1536-5d6e-4965-9aab-bc1541a2dc4a",
   "metadata": {},
   "outputs": [
    {
     "name": "stdout",
     "output_type": "stream",
     "text": [
      "18\n"
     ]
    }
   ],
   "source": [
    "print(2*9)"
   ]
  },
  {
   "cell_type": "code",
   "execution_count": 6,
   "id": "dd5b53cf-9423-4ef2-a7d8-8f62bbe7a06e",
   "metadata": {},
   "outputs": [
    {
     "name": "stdout",
     "output_type": "stream",
     "text": [
      "3\n"
     ]
    }
   ],
   "source": [
    "print(23-20)"
   ]
  },
  {
   "cell_type": "code",
   "execution_count": 10,
   "id": "8825c6e1-89f0-48f7-9256-66232d40fa33",
   "metadata": {},
   "outputs": [
    {
     "data": {
      "text/plain": [
       "<function print(*args, sep=' ', end='\\n', file=None, flush=False)>"
      ]
     },
     "execution_count": 10,
     "metadata": {},
     "output_type": "execute_result"
    }
   ],
   "source": [
    "print"
   ]
  },
  {
   "cell_type": "code",
   "execution_count": 11,
   "id": "c879739d-7c65-47be-8c33-be0db2de9e3f",
   "metadata": {},
   "outputs": [
    {
     "name": "stdout",
     "output_type": "stream",
     "text": [
      "2+3= 8\n"
     ]
    }
   ],
   "source": [
    "print(\"2+3=\",5+3)"
   ]
  },
  {
   "cell_type": "code",
   "execution_count": 12,
   "id": "b024a4c0-029d-4cac-b4e0-dd5925284006",
   "metadata": {},
   "outputs": [],
   "source": [
    "input=(\"whats your name\")"
   ]
  },
  {
   "cell_type": "code",
   "execution_count": 3,
   "id": "5cf2a7cf-b12b-4407-8031-1371e4b4f6c8",
   "metadata": {},
   "outputs": [
    {
     "name": "stdin",
     "output_type": "stream",
     "text": [
      "what is your name?  70\n"
     ]
    },
    {
     "name": "stdout",
     "output_type": "stream",
     "text": [
      "hallo 70\n"
     ]
    }
   ],
   "source": [
    "name=input(\"what is your name? \")\n",
    "print(\"hallo\", name)"
   ]
  },
  {
   "cell_type": "code",
   "execution_count": null,
   "id": "a472180b-df82-41b7-bd4b-0fb798dfef64",
   "metadata": {},
   "outputs": [],
   "source": []
  },
  {
   "cell_type": "code",
   "execution_count": 1,
   "id": "0431bd10-8100-4d54-b878-bae1d353827d",
   "metadata": {},
   "outputs": [
    {
     "ename": "NameError",
     "evalue": "name 'name' is not defined",
     "output_type": "error",
     "traceback": [
      "\u001b[1;31m---------------------------------------------------------------------------\u001b[0m",
      "\u001b[1;31mNameError\u001b[0m                                 Traceback (most recent call last)",
      "Cell \u001b[1;32mIn[1], line 1\u001b[0m\n\u001b[1;32m----> 1\u001b[0m name\n",
      "\u001b[1;31mNameError\u001b[0m: name 'name' is not defined"
     ]
    }
   ],
   "source": [
    "name\n"
   ]
  },
  {
   "cell_type": "code",
   "execution_count": null,
   "id": "82866bf9-23ad-49ea-a658-7dfe72e6f04a",
   "metadata": {},
   "outputs": [
    {
     "name": "stdin",
     "output_type": "stream",
     "text": [
      "What is your name?  muli\n"
     ]
    }
   ],
   "source": [
    "name = input(\"What is your name? \")\n",
    "print(\"Hallo\", name)\n"
   ]
  },
  {
   "cell_type": "code",
   "execution_count": 4,
   "id": "19b088e6-03ba-46e4-9709-d4b655d8e9db",
   "metadata": {},
   "outputs": [
    {
     "ename": "SyntaxError",
     "evalue": "invalid syntax (278831.py, line 1)",
     "output_type": "error",
     "traceback": [
      "\u001b[1;36m  Cell \u001b[1;32mIn[4], line 1\u001b[1;36m\u001b[0m\n\u001b[1;33m    import turtle as\u001b[0m\n\u001b[1;37m                     ^\u001b[0m\n\u001b[1;31mSyntaxError\u001b[0m\u001b[1;31m:\u001b[0m invalid syntax\n"
     ]
    }
   ],
   "source": [
    "import turtle as "
   ]
  },
  {
   "cell_type": "code",
   "execution_count": 1,
   "id": "729d9fd9-4a38-471d-9f33-6f1d9e6b9196",
   "metadata": {},
   "outputs": [],
   "source": [
    "import turtle as t \n",
    "\n",
    "length = 70\n",
    "t.reset()\n",
    "\n",
    "t.left(90)\n",
    "t.forward(length)\n",
    "t.right(90)\n",
    "t.forward(50)\n",
    "t.left(90)\n",
    "t.forward(length)\n",
    "t.right(90)\n",
    "t.left(90)\n",
    "t.forward(length)\n",
    "t.right(90)\n",
    "t.left(90)\n",
    "t.forward(length)\n",
    "t.right(90)\n"
   ]
  },
  {
   "cell_type": "code",
   "execution_count": 1,
   "id": "4fcc653b-7680-4569-94f5-8160fe8822ba",
   "metadata": {},
   "outputs": [
    {
     "ename": "NameError",
     "evalue": "name 'radius' is not defined",
     "output_type": "error",
     "traceback": [
      "\u001b[1;31m---------------------------------------------------------------------------\u001b[0m",
      "\u001b[1;31mNameError\u001b[0m                                 Traceback (most recent call last)",
      "Cell \u001b[1;32mIn[1], line 5\u001b[0m\n\u001b[0;32m      3\u001b[0m t\u001b[38;5;241m.\u001b[39mcolor(\u001b[38;5;124m\"\u001b[39m\u001b[38;5;124mred\u001b[39m\u001b[38;5;124m\"\u001b[39m)\n\u001b[0;32m      4\u001b[0m t\u001b[38;5;241m.\u001b[39mbegin_fill()\n\u001b[1;32m----> 5\u001b[0m t\u001b[38;5;241m.\u001b[39mcircle(radius)\n\u001b[0;32m      6\u001b[0m t\u001b[38;5;241m.\u001b[39mend_fill()\n\u001b[0;32m      8\u001b[0m t\u001b[38;5;241m.\u001b[39mpenup()\n",
      "\u001b[1;31mNameError\u001b[0m: name 'radius' is not defined"
     ]
    }
   ],
   "source": [
    "import turtle as t \n",
    "\n",
    "t.color(\"red\")\n",
    "t.begin_fill()\n",
    "t.circle(radius)\n",
    "t.end_fill()\n",
    "\n",
    "t.penup()\n",
    "t.forward(radius*2)\n",
    "t.pendown()\n",
    "\n",
    "t.color(\"blue\")\n",
    "t.begin_fill()\n",
    "t.circle(radius)\n",
    "t.end_fill()"
   ]
  },
  {
   "cell_type": "code",
   "execution_count": null,
   "id": "d1e4f517-86a6-4b0f-9109-37c23e33d6c3",
   "metadata": {},
   "outputs": [],
   "source": []
  }
 ],
 "metadata": {
  "kernelspec": {
   "display_name": "Python [conda env:base] *",
   "language": "python",
   "name": "conda-base-py"
  },
  "language_info": {
   "codemirror_mode": {
    "name": "ipython",
    "version": 3
   },
   "file_extension": ".py",
   "mimetype": "text/x-python",
   "name": "python",
   "nbconvert_exporter": "python",
   "pygments_lexer": "ipython3",
   "version": "3.13.5"
  }
 },
 "nbformat": 4,
 "nbformat_minor": 5
}
